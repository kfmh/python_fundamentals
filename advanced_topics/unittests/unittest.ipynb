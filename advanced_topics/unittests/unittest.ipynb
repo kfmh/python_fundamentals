{
 "cells": [
  {
   "cell_type": "markdown",
   "metadata": {},
   "source": [
    "## Unittest\n",
    "To create a unit test in Python, you'll typically use the unittest module, which is part of the Python standard library. Here's a concise guide:\n",
    "\n",
    "1. Import the unittest Module: Start by importing the unittest module.\n",
    "   \n",
    "2. Define a Test Case Class: Create a class that inherits from unittest.TestCase. This class will contain the test methods.\n",
    "   \n",
    "3. Write Test Methods: Inside the class, define methods for each test. Each method must start with the word test. Use assertion methods like assertEqual, assertTrue, etc., to check the behavior of the code you are testing.\n",
    " "
   ]
  },
  {
   "cell_type": "code",
   "execution_count": 2,
   "metadata": {},
   "outputs": [],
   "source": [
    "# 1. \n",
    "import unittest\n",
    "\n",
    "# 2.\n",
    "class MyTestCase(unittest.TestCase):\n",
    "    pass\n",
    "\n",
    "    # 3.\n",
    "    def test_something(self):\n",
    "        self.assertEqual(function(), # The Function you want to test\n",
    "                         result)     # The result you expect\n"
   ]
  },
  {
   "cell_type": "markdown",
   "metadata": {},
   "source": [
    "#### Example: Unittesting an add function"
   ]
  },
  {
   "cell_type": "code",
   "execution_count": 8,
   "metadata": {},
   "outputs": [],
   "source": [
    "def add(a, b):\n",
    "    return a + b\n",
    "\n",
    "class TestAddFunction(unittest.TestCase):\n",
    "    \n",
    "    def test_add_postiive_numbers(self):\n",
    "        self.assertEqual(add(1, 2), 3)\n",
    "    \n",
    "    def test_add_negative_numbers(self):\n",
    "        self.assertEqual(add(-1, -2), -3)\n",
    "\n"
   ]
  },
  {
   "cell_type": "markdown",
   "metadata": {},
   "source": [
    "Run test in a jupyter notebook requiers the following commands:"
   ]
  },
  {
   "cell_type": "code",
   "execution_count": 9,
   "metadata": {},
   "outputs": [
    {
     "name": "stderr",
     "output_type": "stream",
     "text": [
      "..\n",
      "----------------------------------------------------------------------\n",
      "Ran 2 tests in 0.002s\n",
      "\n",
      "OK\n"
     ]
    },
    {
     "data": {
      "text/plain": [
       "<unittest.runner.TextTestResult run=2 errors=0 failures=0>"
      ]
     },
     "execution_count": 9,
     "metadata": {},
     "output_type": "execute_result"
    }
   ],
   "source": [
    "suite = unittest.TestLoader().loadTestsFromTestCase(TestAddFunction)\n",
    "unittest.TextTestRunner().run(suite)"
   ]
  },
  {
   "cell_type": "markdown",
   "metadata": {},
   "source": [
    "To run test in a test modeule se the test_modeule.py example in current directory"
   ]
  }
 ],
 "metadata": {
  "kernelspec": {
   "display_name": "venv",
   "language": "python",
   "name": "python3"
  },
  "language_info": {
   "codemirror_mode": {
    "name": "ipython",
    "version": 3
   },
   "file_extension": ".py",
   "mimetype": "text/x-python",
   "name": "python",
   "nbconvert_exporter": "python",
   "pygments_lexer": "ipython3",
   "version": "3.9.18"
  }
 },
 "nbformat": 4,
 "nbformat_minor": 2
}
